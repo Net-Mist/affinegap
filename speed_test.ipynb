{
 "cells": [
  {
   "cell_type": "code",
   "execution_count": 1,
   "metadata": {},
   "outputs": [],
   "source": [
    "from functools import partial\n",
    "import affinegap\n",
    "import pandas as pd\n",
    "from itertools import combinations\n",
    "\n",
    "\n",
    "affineGap = partial(\n",
    "    affinegap.affineGapDistance, matchWeight=0, mismatchWeight=1, gapWeight=0.5, spaceWeight=0.5, abbreviation_scale=1\n",
    ")"
   ]
  },
  {
   "cell_type": "code",
   "execution_count": 2,
   "metadata": {},
   "outputs": [],
   "source": [
    "df = pd.read_csv(\"sequences.csv\", index_col=0)\n",
    "s=df[\"sequential_cat\"].to_list()"
   ]
  },
  {
   "cell_type": "markdown",
   "metadata": {},
   "source": [
    "## reference"
   ]
  },
  {
   "cell_type": "code",
   "execution_count": 5,
   "metadata": {},
   "outputs": [
    {
     "name": "stdout",
     "output_type": "stream",
     "text": [
      "39.6 s ± 1.02 s per loop (mean ± std. dev. of 7 runs, 1 loop each)\n"
     ]
    }
   ],
   "source": [
    "%%timeit\n",
    "for i in combinations(s, r=2):\n",
    "    affineGap(*i)"
   ]
  },
  {
   "cell_type": "markdown",
   "metadata": {},
   "source": [
    "## move to char*"
   ]
  },
  {
   "cell_type": "code",
   "execution_count": 4,
   "metadata": {},
   "outputs": [
    {
     "name": "stdout",
     "output_type": "stream",
     "text": [
      "34.4 s ± 396 ms per loop (mean ± std. dev. of 7 runs, 1 loop each)\n"
     ]
    }
   ],
   "source": [
    "%%timeit\n",
    "for i in combinations(s, r=2):\n",
    "    affineGap(*i)"
   ]
  },
  {
   "cell_type": "markdown",
   "metadata": {},
   "source": [
    "## loop in C"
   ]
  },
  {
   "cell_type": "code",
   "execution_count": 6,
   "metadata": {},
   "outputs": [
    {
     "name": "stdout",
     "output_type": "stream",
     "text": [
      "32.1 s ± 360 ms per loop (mean ± std. dev. of 7 runs, 1 loop each)\n"
     ]
    }
   ],
   "source": [
    "%%timeit\n",
    "r = affinegap.affinaGapDistanceArray(s, matchWeight=0, mismatchWeight=1, gapWeight=0.5, spaceWeight=0.5, abbreviation_scale=1)"
   ]
  },
  {
   "cell_type": "markdown",
   "metadata": {},
   "source": [
    "## change output type to c++ vector"
   ]
  },
  {
   "cell_type": "code",
   "execution_count": 3,
   "metadata": {},
   "outputs": [
    {
     "name": "stdout",
     "output_type": "stream",
     "text": [
      "30.8 s ± 389 ms per loop (mean ± std. dev. of 7 runs, 1 loop each)\n"
     ]
    }
   ],
   "source": [
    "%%timeit\n",
    "r = affinegap.affinaGapDistanceArray(s, matchWeight=0, mismatchWeight=1, gapWeight=0.5, spaceWeight=0.5, abbreviation_scale=1)"
   ]
  },
  {
   "cell_type": "markdown",
   "metadata": {},
   "source": [
    "## automatic infer types"
   ]
  },
  {
   "cell_type": "code",
   "execution_count": 3,
   "metadata": {},
   "outputs": [
    {
     "name": "stdout",
     "output_type": "stream",
     "text": [
      "31.5 s ± 415 ms per loop (mean ± std. dev. of 7 runs, 1 loop each)\n"
     ]
    }
   ],
   "source": [
    "%%timeit\n",
    "r = affinegap.affinaGapDistanceArray(s, matchWeight=0, mismatchWeight=1, gapWeight=0.5, spaceWeight=0.5, abbreviation_scale=1)"
   ]
  },
  {
   "cell_type": "markdown",
   "metadata": {},
   "source": [
    "## string"
   ]
  },
  {
   "cell_type": "code",
   "execution_count": 5,
   "metadata": {},
   "outputs": [
    {
     "name": "stdout",
     "output_type": "stream",
     "text": [
      "30.7 s ± 411 ms per loop (mean ± std. dev. of 7 runs, 1 loop each)\n"
     ]
    }
   ],
   "source": [
    "%%timeit\n",
    "r = affinegap.affinaGapDistanceArray(s, matchWeight=0, mismatchWeight=1, gapWeight=0.5, spaceWeight=0.5, abbreviation_scale=1)"
   ]
  },
  {
   "cell_type": "markdown",
   "metadata": {},
   "source": [
    "## change datatype from str to memoryview"
   ]
  },
  {
   "cell_type": "code",
   "execution_count": 3,
   "metadata": {},
   "outputs": [],
   "source": [
    "import array\n",
    "new_s = [array.array('i', [ord(c) for c in w]) for w in s]\n"
   ]
  },
  {
   "cell_type": "code",
   "execution_count": 8,
   "metadata": {},
   "outputs": [
    {
     "name": "stdout",
     "output_type": "stream",
     "text": [
      "28.2 s ± 329 ms per loop (mean ± std. dev. of 7 runs, 1 loop each)\n"
     ]
    }
   ],
   "source": [
    "%%timeit\n",
    "r = affinegap.affinaGapDistanceArray(new_s)"
   ]
  },
  {
   "cell_type": "markdown",
   "metadata": {},
   "source": [
    "## memory opt"
   ]
  },
  {
   "cell_type": "code",
   "execution_count": 4,
   "metadata": {},
   "outputs": [
    {
     "name": "stdout",
     "output_type": "stream",
     "text": [
      "27.8 s ± 363 ms per loop (mean ± std. dev. of 7 runs, 1 loop each)\n"
     ]
    }
   ],
   "source": [
    "%%timeit\n",
    "r = affinegap.affinaGapDistanceArray(new_s)"
   ]
  },
  {
   "cell_type": "code",
   "execution_count": 6,
   "metadata": {},
   "outputs": [],
   "source": [
    "r = affinegap.affinaGapDistanceArray(new_s)"
   ]
  },
  {
   "cell_type": "code",
   "execution_count": 4,
   "metadata": {},
   "outputs": [],
   "source": [
    "%load_ext line_profiler"
   ]
  },
  {
   "cell_type": "code",
   "execution_count": 5,
   "metadata": {},
   "outputs": [],
   "source": [
    "from affinegap import (\n",
    "    affinaGapDistanceArray,\n",
    "    affineGapDistance,\n",
    "    affineGapDistanceInputOrder,\n",
    "    normalizedAffineGapDistance,\n",
    ")\n"
   ]
  },
  {
   "cell_type": "code",
   "execution_count": 6,
   "metadata": {},
   "outputs": [],
   "source": [
    "ss = new_s[:50]"
   ]
  },
  {
   "cell_type": "code",
   "execution_count": 7,
   "metadata": {},
   "outputs": [
    {
     "name": "stdout",
     "output_type": "stream",
     "text": [
      "\n",
      "*** Profile printout saved to text file 'lprof0'. \n"
     ]
    },
    {
     "name": "stdout",
     "output_type": "stream",
     "text": [
      "Timer unit: 1e-06 s\n",
      "\n",
      "Total time: 0.523494 s\n",
      "File: affinegap/affinegap.pyx\n",
      "Function: affineGapDistanceInputOrder at line 22\n",
      "\n",
      "Line #      Hits         Time  Per Hit   % Time  Line Contents\n",
      "==============================================================\n",
      "    22                                           cpdef float affineGapDistanceInputOrder(int[::1] int_memview_1, int[::1] int_memview_2, const int length1, const int length2,\n",
      "    23                                                                         const float matchWeight,\n",
      "    24                                                                         const float mismatchWeight,\n",
      "    25                                                                         const float gapWeight,\n",
      "    26                                                                         const float spaceWeight,\n",
      "    27                                                                         const float abbreviation_scale):\n",
      "    28                                               # suppose len(int_memview_1) <= len(int_memview_2)\n",
      "    29      1225        467.0      0.4      0.1      cdef int * int_ptr_1 = &int_memview_1[0]\n",
      "    30      1225        312.0      0.3      0.1      cdef int * int_ptr_2 = &int_memview_2[0]\n",
      "    31                                           \n",
      "    32                                               # Initialize C Arrays\n",
      "    33      1225        318.0      0.3      0.1      cdef int memory_size = sizeof(float) * (length1+1)\n",
      "    34      1225        340.0      0.3      0.1      cdef float *D = <float*> malloc(memory_size)\n",
      "    35      1225        363.0      0.3      0.1      cdef float *V_current = <float*> malloc(memory_size)\n",
      "    36      1225        320.0      0.3      0.1      cdef float *V_previous = <float*> malloc(memory_size)\n",
      "    37                                           \n",
      "    38                                               cdef int i, j\n",
      "    39                                               cdef float distance\n",
      "    40                                               # cdef (const int)* char1, char2\n",
      "    41                                           \n",
      "    42                                               # Set up Recurrence relations\n",
      "    43                                               #\n",
      "    44                                               # Base conditions\n",
      "    45                                               # V(0,0) = 0\n",
      "    46                                               # V(0,j) = gapWeight + spaceWeight * i\n",
      "    47                                               # D(0,j) = Infinity\n",
      "    48      1225        321.0      0.3      0.1      V_current[0] = 0\n",
      "    49      1225        302.0      0.2      0.1      for j in range(1, length1 + 1) :\n",
      "    50     21992       5338.0      0.2      1.0          V_current[j] = gapWeight + spaceWeight * j\n",
      "    51     21992       5406.0      0.2      1.0          D[j] = limits.INT_MAX\n",
      "    52                                           \n",
      "    53      1225        303.0      0.2      0.1      for i in range(1, length2 +1) :\n",
      "    54                                           \n",
      "    55                                                   # V_previous = V_current\n",
      "    56     13533       3212.0      0.2      0.6          for _ in range(0, length1 + 1) :\n",
      "    57    270017      65672.0      0.2     12.5              V_previous[_] = V_current[_]\n",
      "    58                                           \n",
      "    59                                                   # Base conditions\n",
      "    60                                                   # V(i,0) = gapWeight + spaceWeight * i\n",
      "    61                                                   # I(i,0) = Infinity\n",
      "    62     13533       3259.0      0.2      0.6          V_current[0] = gapWeight + spaceWeight * i\n",
      "    63     13533       3304.0      0.2      0.6          I = limits.INT_MAX\n",
      "    64                                           \n",
      "    65     13533       3314.0      0.2      0.6          for j in range(1, length1+1) :\n",
      "    66                                           \n",
      "    67                                                       # I(i,j) is the edit distance if the jth character of string 1\n",
      "    68                                                       # was inserted into string 2.\n",
      "    69                                                       #\n",
      "    70                                                       # I(i,j) = min(I(i,j-1), V(i,j-1) + gapWeight) + spaceWeight\n",
      "    71    256484      64608.0      0.3     12.3              if j <= length2 :\n",
      "    72    163083      39353.0      0.2      7.5                  I = min(I, V_current[j-1] + gapWeight) + spaceWeight\n",
      "    73                                                       else :\n",
      "    74                                                           # Pay less for abbreviations\n",
      "    75                                                           # i.e. 'spago (los angeles) to 'spago'\n",
      "    76     93401      23877.0      0.3      4.6                  I = (min(I, V_current[j-1] + gapWeight * abbreviation_scale)\n",
      "    77    186802      46158.0      0.2      8.8                       + spaceWeight * abbreviation_scale)\n",
      "    78                                           \n",
      "    79                                                       # D(i,j) is the edit distance if the ith character of string 2\n",
      "    80                                                       # was deleted from string 1\n",
      "    81                                                       #\n",
      "    82                                                       # D(i,j) = min((i-1,j), V(i-1,j) + gapWeight) + spaceWeight\n",
      "    83    256484      63917.0      0.2     12.2              D[j] = min(D[j], V_previous[j] + gapWeight) + spaceWeight\n",
      "    84                                           \n",
      "    85                                                       # M(i,j) is the edit distance if the ith and jth characters\n",
      "    86                                                       # match or mismatch\n",
      "    87                                                       #\n",
      "    88                                                       # M(i,j) = V(i-1,j-1) + (matchWeight | misMatchWeight)\n",
      "    89    256484      63000.0      0.2     12.0              if int_ptr_2[i-1] == int_ptr_1[j-1] :\n",
      "    90     47753      12107.0      0.3      2.3                  M = V_previous[j-1] + matchWeight\n",
      "    91                                                       else:\n",
      "    92    208731      52240.0      0.3     10.0                  M = V_previous[j-1] + mismatchWeight\n",
      "    93                                           \n",
      "    94                                                       # V(i,j) is the minimum edit distance\n",
      "    95                                                       #\n",
      "    96                                                       # V(i,j) = min(E(i,j), F(i,j), G(i,j))\n",
      "    97    256484      63992.0      0.2     12.2              V_current[j] = min(I, D[j], M)\n",
      "    98                                           \n",
      "    99      1225        313.0      0.3      0.1      distance = V_current[length1]\n",
      "   100                                           \n",
      "   101      1225        361.0      0.3      0.1      free(D)\n",
      "   102      1225        348.0      0.3      0.1      free(V_current)\n",
      "   103      1225        329.0      0.3      0.1      free(V_previous)\n",
      "   104                                           \n",
      "   105      1225        340.0      0.3      0.1      return distance\n",
      "   106                                           \n",
      "   107                                           def get_days_sentinel():\n",
      "   108                                               pass"
     ]
    }
   ],
   "source": [
    "%lprun -T lprof0 -f affineGapDistanceInputOrder affinegap.affinaGapDistanceArray(ss, matchWeight=0, mismatchWeight=1, gapWeight=0.5, spaceWeight=0.5, abbreviation_scale=1)\n"
   ]
  },
  {
   "cell_type": "code",
   "execution_count": null,
   "metadata": {},
   "outputs": [],
   "source": []
  }
 ],
 "metadata": {
  "kernelspec": {
   "display_name": "Python 3.10.5 64-bit",
   "language": "python",
   "name": "python3"
  },
  "language_info": {
   "codemirror_mode": {
    "name": "ipython",
    "version": 3
   },
   "file_extension": ".py",
   "mimetype": "text/x-python",
   "name": "python",
   "nbconvert_exporter": "python",
   "pygments_lexer": "ipython3",
   "version": "3.10.5"
  },
  "orig_nbformat": 4,
  "vscode": {
   "interpreter": {
    "hash": "6f41bb257e0858c5e7dd8cb241e9a1977a8655e4f03ba62e41cfc5f6abe52b14"
   }
  }
 },
 "nbformat": 4,
 "nbformat_minor": 2
}
